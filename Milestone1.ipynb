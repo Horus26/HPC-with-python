{
 "cells": [
  {
   "cell_type": "code",
   "execution_count": 1,
   "metadata": {},
   "outputs": [],
   "source": [
    "import numpy as np\n",
    "import matplotlib.pyplot as plt\n",
    "import matplotlib.animation as animation\n",
    "from functools import partial\n",
    "\n",
    "# for matplotlib backends see: https://matplotlib.org/stable/users/explain/backends.html\n",
    "# WHEN CHANGING MATPLOTLIB BACKEND, RESTART THE KERNEL\n",
    "\n",
    "# use inline for basic inline graphs, but no animations\n",
    "# %matplotlib inline\n",
    "\n",
    "# use widget for inline animations\n",
    "# %matplotlib widget\n",
    "\n",
    "# use qt for interactive pop up windows of graphs --> must restart kernel\n",
    "import matplotlib\n",
    "matplotlib.use('QtAgg')\n",
    "%matplotlib qt"
   ]
  },
  {
   "attachments": {},
   "cell_type": "markdown",
   "metadata": {},
   "source": [
    "### Define constants"
   ]
  },
  {
   "cell_type": "code",
   "execution_count": 2,
   "metadata": {},
   "outputs": [],
   "source": [
    "grid_size_x = 15\n",
    "grid_size_y = 10\n",
    "grid_values_count = grid_size_x * grid_size_y\n",
    "rho_0 = 1.\n",
    "omega_i = np.array([4/9, 1/9, 1/9, 1/9, 1/9, 1/36, 1/36, 1/36, 1/36])\n",
    "omega = 0.5"
   ]
  },
  {
   "attachments": {},
   "cell_type": "markdown",
   "metadata": {},
   "source": [
    "### Intialize arrays"
   ]
  },
  {
   "cell_type": "code",
   "execution_count": 3,
   "metadata": {},
   "outputs": [],
   "source": [
    "# arrays defined in format y,x which is row, column if not stated differently\n",
    "\n",
    "# Velocity directions c (defined by [x,y] components)\n",
    "c_directions = np.array([\n",
    "                [ 0, 0], # 0 ()\n",
    "                [ 1, 0], # 1 (right)\n",
    "                [ 0, 1], # 2 (up)\n",
    "                [-1, 0], # 3 (left)\n",
    "                [ 0,-1], # 4 (down)\n",
    "                [ 1, 1], # 5 (right-up)\n",
    "                [-1, 1], # 6 (left-up)\n",
    "                [-1,-1], # 7 (left-down)\n",
    "                [ 1,-1]  # 8 (right-down)\n",
    "             ])\n",
    "\n",
    "# invert the row values for streaming operation because up is represented by -1 and down by 1\n",
    "c_directions_for_roll = c_directions * np.array([1, -1])\n",
    "\n",
    "initial_density_per_position = rho_0 / float(grid_values_count) \n",
    "# indices: i = discretized velocity index (0-8), y = row, x = column\n",
    "f_values_iyx = np.zeros((9, grid_size_y, grid_size_x))"
   ]
  },
  {
   "attachments": {},
   "cell_type": "markdown",
   "metadata": {},
   "source": [
    "#### Different density initializations"
   ]
  },
  {
   "cell_type": "code",
   "execution_count": 4,
   "metadata": {},
   "outputs": [],
   "source": [
    "# evenly distribute density in all directions for all grid points\n",
    "f_values_iyx = np.full((9, grid_size_y, grid_size_x), initial_density_per_position / 9.)\n",
    "\n",
    "# add one impurity\n",
    "f_values_iyx[:,6,8] = initial_density_per_position / 8.5"
   ]
  },
  {
   "cell_type": "code",
   "execution_count": 5,
   "metadata": {},
   "outputs": [],
   "source": [
    "# calculate a \"border\", which is a vertical line, that seperates two directions\n",
    "# this enables an initialization which can be used for a quick visual check of the streaming function\n",
    "# inital_border_value = np.rint(grid_size_x/2).astype(np.uint8)\n",
    "# f_values_iyx[5, :, inital_border_value:] = initial_density_per_position * 1/4\n",
    "# f_values_iyx[1, :, 0:inital_border_value] = initial_density_per_position * 3/4"
   ]
  },
  {
   "cell_type": "code",
   "execution_count": 6,
   "metadata": {},
   "outputs": [],
   "source": [
    "# density per position is zero except one specified non zero direction (the value refers to the index in c)\n",
    "# f_values[1] = initial_density_per_position"
   ]
  },
  {
   "attachments": {},
   "cell_type": "markdown",
   "metadata": {},
   "source": [
    "### Functions"
   ]
  },
  {
   "attachments": {},
   "cell_type": "markdown",
   "metadata": {},
   "source": [
    "##### Density function"
   ]
  },
  {
   "cell_type": "code",
   "execution_count": 7,
   "metadata": {},
   "outputs": [],
   "source": [
    "def compute_density_field(f_values_iyx):\n",
    "    return np.sum(f_values_iyx, axis=0)"
   ]
  },
  {
   "attachments": {},
   "cell_type": "markdown",
   "metadata": {},
   "source": [
    "#### Velocity field function"
   ]
  },
  {
   "cell_type": "code",
   "execution_count": 8,
   "metadata": {},
   "outputs": [],
   "source": [
    "def calc_density_and_average_velocity(f_values_iyx):\n",
    "\n",
    "    # calculate current density\n",
    "    density_values_yx = compute_density_field(f_values_iyx)\n",
    "\n",
    "    # do: [:,np.newaxis] so that broadcasting works\n",
    "    # multiply every element of f_values_iyx with it respective direction given by index i and then sum over all directions for a position jk\n",
    "    # the resulting array has shape (y,x,2) and contains a velocity direction for every position and is divided by the respective density\n",
    "    # indices: y = row, x = column, c = cartesian coordinates of respective velocity at position given in format [x,y]\n",
    "    average_velocity_field_directions_yxc = np.divide(np.einsum(\"ijk, il->jkl\", f_values_iyx, c_directions), density_values_yx[..., np.newaxis])\n",
    "    \n",
    "    # DISCRETIZATION HERE NOT NEEDED (i think so, because only when moving points on lattice the discretization is relevant)\n",
    "    # numpy rounds 0.5 cases to nearest even value\n",
    "    # average_velocity_field_directions_yxc = np.rint(average_velocity_field_directions_yxc).astype(np.uint8)\n",
    "    # normalize the directions\n",
    "    # average_velocity_field_directions_yxc = np.sign(average_velocity_field_directions_yxc)\n",
    "    \n",
    "    # new_direction = np.array([x_component, y_component])\n",
    "    # # find index of direction in c that resembles the new direction\n",
    "    # index = np.argwhere((c == new_direction).all(axis=1))[0][0]\n",
    "    return density_values_yx, average_velocity_field_directions_yxc\n"
   ]
  },
  {
   "attachments": {},
   "cell_type": "markdown",
   "metadata": {},
   "source": [
    "#### Collision term"
   ]
  },
  {
   "cell_type": "code",
   "execution_count": 9,
   "metadata": {},
   "outputs": [],
   "source": [
    "# u is the average velocity\n",
    "# yx describes row, column\n",
    "# c is cartesian coordinates [xy]\n",
    "# i is the velocity discretization[0..8] <-- 9 values\n",
    "def calc_collision_term(f_values_iyx, density_values_yx, u_yxc):\n",
    "    # precompute terms\n",
    "    u_norm_squared_yx = 1.5 * np.einsum(\"yxc, yxc -> yx\", u_yxc, u_yxc)\n",
    "    uc_yx = np.einsum(\"yxc, ic -> iyx\", u_yxc, c_directions)\n",
    "    f_eq_iyx = np.einsum('i,jk->ijk', omega_i, density_values_yx) * (1 + 3 * uc_yx + 4.5 * uc_yx**2 - u_norm_squared_yx)\n",
    "    # return updated f values after collision\n",
    "    return  (1-omega) * f_values_iyx + omega * f_eq_iyx\n"
   ]
  },
  {
   "attachments": {},
   "cell_type": "markdown",
   "metadata": {},
   "source": [
    "#### Streaming Function"
   ]
  },
  {
   "cell_type": "code",
   "execution_count": 10,
   "metadata": {},
   "outputs": [],
   "source": [
    "def streaming(f_values_iyx):      \n",
    "    # start at index 1 because direction 0 (0,0) does not change anything with roll call, axis=(1,0) means first in x direction, then in y direction because f is defined by rrow, col (=y,x) indices \n",
    "    for i in range(1, len(c_directions)): f_values_iyx[i] = np.roll(f_values_iyx[i], shift=c_directions_for_roll[i], axis=(1,0))\n",
    "    return f_values_iyx\n"
   ]
  },
  {
   "attachments": {},
   "cell_type": "markdown",
   "metadata": {},
   "source": [
    "#### Update function that handles going to next time step"
   ]
  },
  {
   "cell_type": "code",
   "execution_count": 11,
   "metadata": {},
   "outputs": [],
   "source": [
    "def update(f_values_iyx):\n",
    "    f_values_iyx = streaming(f_values_iyx)\n",
    "    density_values_yx, average_velocity_field_directions_yxc = calc_density_and_average_velocity(f_values_iyx)\n",
    "    f_values_iyx = calc_collision_term(f_values_iyx, density_values_yx, average_velocity_field_directions_yxc)\n",
    "\n",
    "    return f_values_iyx, density_values_yx, average_velocity_field_directions_yxc"
   ]
  },
  {
   "attachments": {},
   "cell_type": "markdown",
   "metadata": {},
   "source": [
    "### Visualization"
   ]
  },
  {
   "attachments": {},
   "cell_type": "markdown",
   "metadata": {},
   "source": [
    "#### Density plot"
   ]
  },
  {
   "cell_type": "code",
   "execution_count": 12,
   "metadata": {},
   "outputs": [],
   "source": [
    "def plot_density_field(density_values_yx ,timestep = None):\n",
    "    # Create a 3D figure\n",
    "    fig = plt.figure()\n",
    "    ax = fig.add_subplot(111, projection='3d')\n",
    "\n",
    "    x_dim = density_values_yx.shape[1]\n",
    "    y_dim = density_values_yx.shape[0]\n",
    "    x,y = np.meshgrid(np.arange(x_dim), np.arange(y_dim))\n",
    "\n",
    "    # Plot the surface\n",
    "    ax.plot_surface(x, y, density_values_yx)\n",
    "\n",
    "    ax.set_xlabel('x')\n",
    "    ax.set_ylabel('y')\n",
    "    title = \"Density field\"\n",
    "    if timestep is not None:\n",
    "        title += \" for t={}\".format(timestep)\n",
    "    ax.set_title(title)\n",
    "\n",
    "    plt.show()"
   ]
  },
  {
   "attachments": {},
   "cell_type": "markdown",
   "metadata": {},
   "source": [
    "#### Velocity field plot"
   ]
  },
  {
   "cell_type": "code",
   "execution_count": 13,
   "metadata": {},
   "outputs": [],
   "source": [
    "# def plot_velocity_field(velocity_field_yxc, timestep : int = 0, animation_timesteps = 0, paused = False):\n",
    "#     ani = None\n",
    "\n",
    "#     # define grid of velocity field\n",
    "#     x = np.arange(grid_size_x)\n",
    "#     y = np.arange(grid_size_y)\n",
    "\n",
    "#     X, Y = np.meshgrid(x, y)\n",
    "#     fig, ax = plt.subplots()\n",
    "\n",
    "#     # velocity x direction\n",
    "#     U = velocity_field_yxc[:,:,0]\n",
    "#     # velocity y direction\n",
    "#     V = velocity_field_yxc[:,:,1]\n",
    "\n",
    "#     stream = ax.streamplot(X, Y, U, V)\n",
    "#     # ax.quiver(X, Y, c[velocity_values[:,:], 0], c[velocity_values[:,:]) is also a good option\n",
    "#     ax.set_xticks(np.arange(0, grid_size_x, 1))\n",
    "#     ax.set_yticks(np.arange(0, grid_size_y, 1))\n",
    "#     ax.grid()\n",
    "\n",
    "#     ax.set_xlabel('x')\n",
    "#     ax.set_ylabel('y')\n",
    "\n",
    "#     title = \"Velocity field for t={}\".format(timestep)\n",
    "#     ax.set_title(title)\n",
    "\n",
    "#     if animation_timesteps > 0:\n",
    "\n",
    "#         def animate(i, f_values_iyx , ax):\n",
    "#             ax.cla()\n",
    "#             f_values_iyx, _, velocity_field_xy = update(f_values_iyx)\n",
    "#             U = velocity_field_xy[:,:,0]\n",
    "#             V = velocity_field_xy[:,:,1]\n",
    "#             stream = ax.streamplot(X, Y, U, V)\n",
    "#             title = \"Velocity field for t={}\".format(timestep + i)\n",
    "#             ax.set_title(title)\n",
    "#             return stream,\n",
    "    \n",
    "#         ani = animation.FuncAnimation(fig, func=partial(animate, f_values_iyx = f_values_iyx, ax = ax), frames=animation_timesteps, interval=200, blit=False, save_count=50)\n",
    "#         def toggle_pause(self, *args, **kwargs):\n",
    "#             if paused:\n",
    "#                 ani.resume()\n",
    "#             else:\n",
    "#                 ani.pause()\n",
    "#             paused = not paused\n",
    "#         fig.canvas.mpl_connect('button_press_event', toggle_pause)\n",
    "#     return ani"
   ]
  },
  {
   "cell_type": "code",
   "execution_count": 17,
   "metadata": {},
   "outputs": [],
   "source": [
    "class Velocity_field_animation:\n",
    "    def __init__(self, velocity_field_yxc, grid_size, timestep = 0):\n",
    "\n",
    "        # Start with a normal distribution\n",
    "        self.timestep = timestep\n",
    "        # define grid of velocity field\n",
    "        x = np.arange(grid_size[0])\n",
    "        y = np.arange(grid_size[1])\n",
    "        self.x_lim = grid_size[0]\n",
    "        self.y_lim = grid_size[1]\n",
    "\n",
    "        self.X, self.Y = np.meshgrid(x, y)\n",
    "        self.fig, self.ax = plt.subplots()\n",
    "\n",
    "        # velocity x direction\n",
    "        U = velocity_field_yxc[:,:,0]\n",
    "        # velocity y direction\n",
    "        V = velocity_field_yxc[:,:,1]\n",
    "\n",
    "        self.streamplot = self.ax.streamplot(self.X, self.Y, U, V)\n",
    "        # ax.quiver(X, Y, c[velocity_values[:,:], 0], c[velocity_values[:,:]) is also a good option\n",
    "        self.ax.set_xlim(0, self.x_lim)\n",
    "        self.ax.set_ylim(0, self.y_lim)\n",
    "        self.ax.set_xticks(np.arange(0, self.x_lim, 1))\n",
    "        self.ax.set_yticks(np.arange(0, self.y_lim, 1))\n",
    "        self.ax.grid()\n",
    "\n",
    "        self.ax.set_xlabel('x')\n",
    "        self.ax.set_ylabel('y')\n",
    "\n",
    "        title = \"Velocity field for t={}\".format(timestep)\n",
    "        self.ax.set_title(title)\n",
    "\n",
    "        self.animation = None\n",
    "        self.paused = False\n",
    "        self.animation_timesteps = 20\n",
    "\n",
    "        self.fig.canvas.mpl_connect('button_press_event', self.toggle_pause)\n",
    "\n",
    "    def toggle_pause(self, *args, **kwargs):\n",
    "        if self.paused:\n",
    "            self.animation.resume()\n",
    "        else:\n",
    "            self.animation.pause()\n",
    "        self.paused = not self.paused\n",
    "\n",
    "    def update_animation(self, i, f_values_iyx):\n",
    "        self.ax.cla()\n",
    "        f_values_iyx, _, velocity_field_xy = update(f_values_iyx)\n",
    "        U = velocity_field_xy[:,:,0]\n",
    "        V = velocity_field_xy[:,:,1]\n",
    "        self.streamplot = self.ax.streamplot(self.X, self.Y, U, V)\n",
    "        self.timestep += 1\n",
    "        # if self.timestep > self.animation_timesteps:\n",
    "        #     print(\"TIMESTEP RESETTED\")\n",
    "        #     self.timestep = 0\n",
    "        title = \"Velocity field for t={}\".format(self.timestep)\n",
    "        self.ax.set_title(title)\n",
    "        self.ax.set_xlim(0, self.x_lim)\n",
    "        self.ax.set_ylim(0, self.y_lim)\n",
    "        self.ax.set_xticks(np.arange(0, self.x_lim, 1))\n",
    "        self.ax.set_yticks(np.arange(0, self.y_lim, 1))\n",
    "        self.ax.grid()\n",
    "        return self.streamplot,\n",
    "\n",
    "    def start_animation(self, f_values_iyx, animation_timesteps = 20, delay_interval = 200):\n",
    "        self.animation_timesteps = animation_timesteps\n",
    "        self.animation = animation.FuncAnimation(self.fig, func=partial(self.update_animation, f_values_iyx = f_values_iyx), frames=animation_timesteps, interval=delay_interval, blit=False, save_count=50, repeat = False)\n"
   ]
  },
  {
   "attachments": {},
   "cell_type": "markdown",
   "metadata": {},
   "source": [
    "### Test"
   ]
  },
  {
   "cell_type": "code",
   "execution_count": 18,
   "metadata": {},
   "outputs": [
    {
     "name": "stderr",
     "output_type": "stream",
     "text": [
      "/tmp/ipykernel_1695/938030920.py:68: UserWarning: You passed in an explicit save_count=50 which is being ignored in favor of frames=20.\n",
      "  self.animation = animation.FuncAnimation(self.fig, func=partial(self.update_animation, f_values_iyx = f_values_iyx), frames=animation_timesteps, interval=delay_interval, blit=False, save_count=50, repeat = False)\n"
     ]
    }
   ],
   "source": [
    "# testing velocity field animation\n",
    "density_values_yx, velocity_field_yxc = calc_density_and_average_velocity(f_values_iyx)\n",
    "# TODO: CHECK IF ANIMATION IS CORRECT (ARROW DIRECTION AND VELOCITY FIELD INITAL VALUES)\n",
    "animation_plot = Velocity_field_animation(velocity_field_yxc, grid_size=[grid_size_x, grid_size_y], timestep=0)\n",
    "animation_plot.start_animation(f_values_iyx, animation_timesteps=20, delay_interval = 1000)\n",
    "# anim = plot_velocity_field(velocity_field_yxc, timestep=0, animation_timesteps=20)\n",
    "plt.show()"
   ]
  },
  {
   "cell_type": "code",
   "execution_count": 33,
   "metadata": {},
   "outputs": [
    {
     "ename": "NameError",
     "evalue": "name 'plot_velocity_field' is not defined",
     "output_type": "error",
     "traceback": [
      "\u001b[0;31m---------------------------------------------------------------------------\u001b[0m",
      "\u001b[0;31mNameError\u001b[0m                                 Traceback (most recent call last)",
      "Cell \u001b[0;32mIn[33], line 7\u001b[0m\n\u001b[1;32m      5\u001b[0m density_values_yx, velocity_field_yxc \u001b[39m=\u001b[39m calc_density_and_average_velocity(f_values_iyx)\n\u001b[1;32m      6\u001b[0m plot_density_field(density_values_yx, \u001b[39m0\u001b[39m)\n\u001b[0;32m----> 7\u001b[0m plot_velocity_field(velocity_field_yxc, \u001b[39m0\u001b[39m)\n\u001b[1;32m      9\u001b[0m full_density \u001b[39m=\u001b[39m np\u001b[39m.\u001b[39msum(density_values_yx)\n\u001b[1;32m     10\u001b[0m mass_before_update \u001b[39m=\u001b[39m full_density \u001b[39m*\u001b[39m full_volume\n",
      "\u001b[0;31mNameError\u001b[0m: name 'plot_velocity_field' is not defined"
     ]
    }
   ],
   "source": [
    "# mass = density * volume\n",
    "full_volume = grid_values_count\n",
    "\n",
    "# initial computation of velocity field for visualization\n",
    "density_values_yx, velocity_field_yxc = calc_density_and_average_velocity(f_values_iyx)\n",
    "plot_density_field(density_values_yx, 0)\n",
    "plot_velocity_field(velocity_field_yxc, 0)\n",
    "\n",
    "full_density = np.sum(density_values_yx)\n",
    "mass_before_update = full_density * full_volume\n",
    "\n",
    "# do a timestep update and plot\n",
    "f_values_iyx, density_values_yx, velocity_field_yxc = update(f_values_iyx)\n",
    "plot_density_field(density_values_yx, 1)\n",
    "plot_velocity_field(velocity_field_yxc, 1)\n",
    "\n",
    "full_density = np.sum(density_values_yx)\n",
    "mass_after_update = full_density * full_volume\n",
    "\n",
    "print(\"Mass before update = {}\".format(mass_before_update))\n",
    "print(\"Mass after update = {}\".format(mass_after_update))"
   ]
  }
 ],
 "metadata": {
  "kernelspec": {
   "display_name": "FM_venv",
   "language": "python",
   "name": "python3"
  },
  "language_info": {
   "codemirror_mode": {
    "name": "ipython",
    "version": 3
   },
   "file_extension": ".py",
   "mimetype": "text/x-python",
   "name": "python",
   "nbconvert_exporter": "python",
   "pygments_lexer": "ipython3",
   "version": "3.10.6"
  },
  "orig_nbformat": 4
 },
 "nbformat": 4,
 "nbformat_minor": 2
}
