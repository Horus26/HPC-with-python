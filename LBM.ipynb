{
 "cells": [
  {
   "cell_type": "code",
   "execution_count": 54,
   "metadata": {},
   "outputs": [],
   "source": [
    "import numpy as np\n",
    "import matplotlib.pyplot as plt\n",
    "import matplotlib.animation as animation\n",
    "import matplotlib.ticker as mtick\n",
    "from matplotlib import cm\n",
    "\n",
    "# for matplotlib backends see: https://matplotlib.org/stable/users/explain/backends.html\n",
    "# WHEN CHANGING MATPLOTLIB BACKEND, RESTART THE KERNEL\n",
    "\n",
    "# use inline for basic inline graphs, but no animations\n",
    "# %matplotlib inline\n",
    "\n",
    "# use widget for inline animations\n",
    "# %matplotlib widget\n",
    "\n",
    "# use qt for interactive pop up windows of graphs --> must restart kernel\n",
    "import matplotlib\n",
    "matplotlib.use('QtAgg')\n",
    "%matplotlib qt"
   ]
  },
  {
   "attachments": {},
   "cell_type": "markdown",
   "metadata": {},
   "source": [
    "### Define constants"
   ]
  },
  {
   "cell_type": "code",
   "execution_count": 55,
   "metadata": {},
   "outputs": [],
   "source": [
    "grid_size_x = 150\n",
    "grid_size_y = 100\n",
    "grid_values_count = grid_size_x * grid_size_y\n",
    "rho_0 = 0.8\n",
    "omega_i = np.array([4/9, 1/9, 1/9, 1/9, 1/9, 1/36, 1/36, 1/36, 1/36])\n",
    "omega = 0.8"
   ]
  },
  {
   "attachments": {},
   "cell_type": "markdown",
   "metadata": {},
   "source": [
    "### Intialize arrays"
   ]
  },
  {
   "cell_type": "code",
   "execution_count": 56,
   "metadata": {},
   "outputs": [],
   "source": [
    "# arrays defined in format y,x which is row, column if not stated differently\n",
    "\n",
    "# Velocity directions c (defined by [x,y] components)\n",
    "c_directions = np.array([\n",
    "                [ 0, 0], # 0 ()\n",
    "                [ 1, 0], # 1 (right)\n",
    "                [ 0, 1], # 2 (up)\n",
    "                [-1, 0], # 3 (left)\n",
    "                [ 0,-1], # 4 (down)\n",
    "                [ 1, 1], # 5 (right-up)\n",
    "                [-1, 1], # 6 (left-up)\n",
    "                [-1,-1], # 7 (left-down)\n",
    "                [ 1,-1]  # 8 (right-down)\n",
    "             ])\n",
    "\n",
    "# indices: i = discretized velocity index (0-8), y = row, x = column\n",
    "f_values_iyx = np.zeros((9, grid_size_y, grid_size_x))"
   ]
  },
  {
   "attachments": {},
   "cell_type": "markdown",
   "metadata": {},
   "source": [
    "#### Different density initializations"
   ]
  },
  {
   "cell_type": "code",
   "execution_count": 57,
   "metadata": {},
   "outputs": [],
   "source": [
    "# evenly distribute density in all directions for all grid points\n",
    "# impurity_density = 0.1 * rho_0\n",
    "# initial_equal_density_per_position = (rho_0-impurity_density) / float(grid_values_count-1) \n",
    "# f_values_iyx = np.full((9, grid_size_y, grid_size_x), initial_equal_density_per_position / 9.)\n",
    "\n",
    "# # # add one impurity at center\n",
    "# f_values_iyx[:,5,7] = impurity_density / 9."
   ]
  },
  {
   "cell_type": "code",
   "execution_count": 58,
   "metadata": {},
   "outputs": [],
   "source": [
    "# calculate a \"border\", which is a vertical line, that seperates two directions\n",
    "# this enables an initialization which can be used for a quick visual check of the streaming function\n",
    "inital_border_value = np.rint(grid_size_x/2).astype(np.uint8)\n",
    "initial_equal_density_per_position = rho_0 / float(grid_values_count) \n",
    "f_values_iyx[5, :, inital_border_value:] = initial_equal_density_per_position * 1/4\n",
    "f_values_iyx[1, :, 0:inital_border_value] = initial_equal_density_per_position * 3/4\n",
    "f_values_iyx[1,:,:] = initial_equal_density_per_position"
   ]
  },
  {
   "attachments": {},
   "cell_type": "markdown",
   "metadata": {},
   "source": [
    "### Functions"
   ]
  },
  {
   "attachments": {},
   "cell_type": "markdown",
   "metadata": {},
   "source": [
    "##### Density function"
   ]
  },
  {
   "cell_type": "code",
   "execution_count": 59,
   "metadata": {},
   "outputs": [],
   "source": [
    "def compute_density_field(f_values_iyx):\n",
    "    return np.sum(f_values_iyx, axis=0)"
   ]
  },
  {
   "attachments": {},
   "cell_type": "markdown",
   "metadata": {},
   "source": [
    "#### Velocity field function"
   ]
  },
  {
   "cell_type": "code",
   "execution_count": 60,
   "metadata": {},
   "outputs": [],
   "source": [
    "def calc_density_and_average_velocity(f_values_iyx):\n",
    "\n",
    "    # calculate current density\n",
    "    density_values_yx = compute_density_field(f_values_iyx)\n",
    "\n",
    "    # do: [:,np.newaxis] so that broadcasting works\n",
    "    # multiply every element of f_values_iyx with it respective direction given by index i and then sum over all directions for a position jk\n",
    "    # the resulting array has shape (y,x,2) and contains a velocity direction for every position and is divided by the respective density\n",
    "    # indices: y = row, x = column, c = cartesian coordinates of respective velocity at position given in format [x,y]\n",
    "    average_velocity_field_directions_yxc = np.divide(np.einsum(\"ijk, il->jkl\", f_values_iyx, c_directions), density_values_yx[..., np.newaxis])\n",
    " \n",
    "    return density_values_yx, average_velocity_field_directions_yxc\n"
   ]
  },
  {
   "attachments": {},
   "cell_type": "markdown",
   "metadata": {},
   "source": [
    "#### Collision term"
   ]
  },
  {
   "cell_type": "code",
   "execution_count": 61,
   "metadata": {},
   "outputs": [],
   "source": [
    "# u is the average velocity\n",
    "# yx describes row, column\n",
    "# c is cartesian coordinates [xy]\n",
    "# i is the velocity discretization[0..8] <-- 9 values\n",
    "def calc_collision_term(f_values_iyx, density_values_yx, u_yxc):\n",
    "    # precompute terms\n",
    "    u_norm_squared_yx = np.einsum(\"yxc, yxc -> yx\", u_yxc, u_yxc)\n",
    "    uc_yx = np.einsum(\"yxc, ic -> iyx\", u_yxc, c_directions)\n",
    "    f_eq_iyx = np.einsum('i,jk->ijk', omega_i, density_values_yx) * (1 + 3 * uc_yx + 4.5 * uc_yx**2 - 1.5 * u_norm_squared_yx)\n",
    "    # return updated f values after collision\n",
    "    return  (1-omega) * f_values_iyx + omega * f_eq_iyx\n"
   ]
  },
  {
   "attachments": {},
   "cell_type": "markdown",
   "metadata": {},
   "source": [
    "#### Streaming Function"
   ]
  },
  {
   "cell_type": "code",
   "execution_count": 62,
   "metadata": {},
   "outputs": [],
   "source": [
    "def streaming(f_values_iyx):      \n",
    "    # start at index 1 because direction 0 (0,0) does not change anything with roll call, axis=(1,0) means first in x direction, then in y direction because f is defined by row, col (y,x) indices \n",
    "    for i in range(1, len(c_directions)): f_values_iyx[i] = np.roll(f_values_iyx[i], shift=c_directions[i], axis=(1,0))\n",
    "    return f_values_iyx"
   ]
  },
  {
   "attachments": {},
   "cell_type": "markdown",
   "metadata": {},
   "source": [
    "#### Update function that handles going to next time step"
   ]
  },
  {
   "cell_type": "code",
   "execution_count": 63,
   "metadata": {},
   "outputs": [],
   "source": [
    "def update(f_values_iyx, density_values_yx, average_velocity_field_directions_yxc):\n",
    "    f_values_iyx = streaming(f_values_iyx)\n",
    "    density_values_yx, average_velocity_field_directions_yxc = calc_density_and_average_velocity(f_values_iyx)\n",
    "    f_values_iyx = calc_collision_term(f_values_iyx, density_values_yx, average_velocity_field_directions_yxc)\n",
    "    density_values_yx, average_velocity_field_directions_yxc = calc_density_and_average_velocity(f_values_iyx)\n",
    "\n",
    "    return f_values_iyx, density_values_yx, average_velocity_field_directions_yxc"
   ]
  },
  {
   "cell_type": "code",
   "execution_count": 64,
   "metadata": {},
   "outputs": [],
   "source": [
    "# find max velocity magnitude in average velocity field\n",
    "def calc_max_velocity_magnitude(average_velocity_field_directions_yxc):\n",
    "    # calculate magnitude of velocity vectors\n",
    "    velocity_magnitude_yx = np.linalg.norm(average_velocity_field_directions_yxc, axis=2)\n",
    "    max_velocity_magnitude = np.max(velocity_magnitude_yx)\n",
    "    return max_velocity_magnitude"
   ]
  },
  {
   "attachments": {},
   "cell_type": "markdown",
   "metadata": {},
   "source": [
    "### Visualization"
   ]
  },
  {
   "attachments": {},
   "cell_type": "markdown",
   "metadata": {},
   "source": [
    "#### Density plot"
   ]
  },
  {
   "cell_type": "code",
   "execution_count": 65,
   "metadata": {},
   "outputs": [],
   "source": [
    "def plot_grid_datafield(grid_data_values_yx ,timestep = None, label=\"Density\"):\n",
    "    fig = plt.figure()\n",
    "    ax = fig.add_subplot(111, projection='3d')\n",
    "\n",
    "    x_dim = grid_data_values_yx.shape[1]\n",
    "    y_dim = grid_data_values_yx.shape[0]\n",
    "    x,y = np.meshgrid(np.arange(x_dim), np.arange(y_dim))\n",
    "\n",
    "    ax.plot_surface(x, y, grid_data_values_yx)\n",
    "\n",
    "    ax.set_xlabel('x')\n",
    "    ax.set_ylabel('y')\n",
    "    ax.set_zlabel(label)\n",
    "    title = label + \" field\"\n",
    "    if timestep is not None:\n",
    "        title += \" for t={}\".format(timestep)\n",
    "    ax.set_title(title)\n",
    "\n",
    "    plt.show()"
   ]
  },
  {
   "attachments": {},
   "cell_type": "markdown",
   "metadata": {},
   "source": [
    "#### Velocity field plot"
   ]
  },
  {
   "cell_type": "code",
   "execution_count": 66,
   "metadata": {},
   "outputs": [],
   "source": [
    "# plot velocity streamlines and plot average velocity y component over time on grid\n",
    "def plot_velocity_field(velocity_field_yxc, timestep : int = 0):\n",
    "\n",
    "    # define grid of velocity field\n",
    "    x = np.arange(grid_size_x)\n",
    "    y = np.arange(grid_size_y)\n",
    "\n",
    "    X, Y = np.meshgrid(x, y)\n",
    "    fig = plt.figure()\n",
    "    ax = fig.add_subplot(111)\n",
    "    ax.set_aspect('equal')\n",
    "\n",
    "    # velocity x direction\n",
    "    U = velocity_field_yxc[:,:,0]\n",
    "    # velocity y direction\n",
    "    V = velocity_field_yxc[:,:,1]\n",
    "\n",
    "    # normalize when using quiver --> use quiver for exakt representation of velocity directions\n",
    "    # U = np.sign(U)\n",
    "    # V = np.sign(V)\n",
    "    # ax.quiver(X, Y, U, V, scale=1, units='xy', angles=\"xy\", scale_units=\"xy\") #is also a good option\n",
    "\n",
    "    stream = ax.streamplot(X, Y, U, V, density=(grid_size_x/10, grid_size_y/10), integration_direction=\"forward\")\n",
    "    \n",
    "    ax.set_xticks(np.arange(0, grid_size_x, 1))\n",
    "    ax.set_yticks(np.arange(0, grid_size_y, 1))\n",
    "    \n",
    "    ax.grid()\n",
    "\n",
    "    ax.set_xlabel('x')\n",
    "    ax.set_ylabel('y')\n",
    "\n",
    "    title = \"Velocity field for t={}\".format(timestep)\n",
    "    ax.set_title(title)\n",
    "\n",
    "    fig2 = plt.figure()\n",
    "    ax2 = fig2.add_subplot(111)\n",
    "    ax2.set_aspect('equal')\n",
    "    ax2.plot(X[0], V[0])\n",
    "    ax2.set_xlabel('x')\n",
    "    ax2.set_ylabel('Velocity y component')"
   ]
  },
  {
   "cell_type": "code",
   "execution_count": 67,
   "metadata": {},
   "outputs": [],
   "source": [
    "class Velocity_field_animation:\n",
    "    def __init__(self, f_values_iyx, density_values_yx, average_velocity_field_directions_yxc, grid_size, timestep = 0, use_quiver = False):\n",
    "\n",
    "        self.use_quiver = use_quiver\n",
    "        # Start with a normal distribution\n",
    "        self.timestep = timestep\n",
    "        # define grid of velocity field\n",
    "        x = np.arange(grid_size[0])\n",
    "        y = np.arange(grid_size[1])\n",
    "        self.x_lim = grid_size[0] - 1\n",
    "        self.y_lim = grid_size[1] - 1\n",
    "\n",
    "        self.X, self.Y = np.meshgrid(x, y)\n",
    "\n",
    "        self.fig1 = plt.figure(figsize=plt.figaspect((grid_size[1]/grid_size[0])/2))\n",
    "        self.ax1 = self.fig1.add_subplot(121)\n",
    "        self.ax2 = self.fig1.add_subplot(122, projection='3d')\n",
    "\n",
    "        # velocity x direction\n",
    "        U = average_velocity_field_directions_yxc[:,:,0]\n",
    "        # velocity y direction\n",
    "        V = average_velocity_field_directions_yxc[:,:,1]\n",
    "\n",
    "        self.streamplot = None\n",
    "        self.f_values_iyx = f_values_iyx\n",
    "        self.density_values_yx = density_values_yx\n",
    "        self.average_velocity_field_directions_yxc = average_velocity_field_directions_yxc\n",
    "        \n",
    "        # plotting with quiver\n",
    "        if self.use_quiver:\n",
    "            U = np.sign(U)\n",
    "            V = np.sign(V)\n",
    "            self.streamplot = self.ax1.quiver(self.X, self.Y, U, V, scale=1, units='xy', angles=\"xy\", scale_units=\"xy\")\n",
    "\n",
    "        else:\n",
    "            self.streamplot = self.ax1.streamplot(self.X, self.Y, U, V)\n",
    "        \n",
    "        # plot density field\n",
    "        self.density_plot = self.ax2.plot_surface(self.X, self.Y, self.density_values_yx)\n",
    "\n",
    "\n",
    "        self.ax1.set_xlim(0, self.x_lim)\n",
    "        self.ax1.set_ylim(0, self.y_lim)\n",
    "        self.ax1.set_xticks(np.arange(0, self.x_lim, 1))\n",
    "        self.ax1.set_yticks(np.arange(0, self.y_lim, 1))\n",
    "        self.ax1.grid()\n",
    "\n",
    "\n",
    "        self.ax1.set_xlabel('x')\n",
    "        self.ax1.set_ylabel('y')\n",
    "        self.ax2.set_xlabel('x')\n",
    "        self.ax2.set_ylabel('y')\n",
    "        self.ax2.set_zlabel('Density')\n",
    "\n",
    "\n",
    "        title = \"Velocity field for t={}\".format(timestep)\n",
    "        self.ax1.set_title(title)\n",
    "        title = \"Density field for t={}\".format(timestep)\n",
    "        self.ax2.set_title(title)\n",
    "\n",
    "        self.animation = None\n",
    "        self.paused = False\n",
    "        self.animation_timesteps = 20\n",
    "\n",
    "        self.fig1.canvas.mpl_connect('button_press_event', self.toggle_pause)\n",
    "\n",
    "    def toggle_pause(self, *args, **kwargs):\n",
    "        if self.paused:\n",
    "            self.animation.resume()\n",
    "        else:\n",
    "            self.animation.pause()\n",
    "        self.paused = not self.paused\n",
    "\n",
    "    def update_animation(self, i):\n",
    "        self.ax1.cla()\n",
    "        self.ax2.cla()\n",
    "\n",
    "        self.f_values_iyx, self.density_values_yx, self.average_velocity_field_directions_yxc = update(self.f_values_iyx, self.density_values_yx, self.average_velocity_field_directions_yxc)\n",
    "        U = self.average_velocity_field_directions_yxc[:,:,0]\n",
    "        V = self.average_velocity_field_directions_yxc[:,:,1]\n",
    "        \n",
    "        # plotting with quiver\n",
    "        if self.use_quiver:\n",
    "            U = np.sign(U)\n",
    "            V = np.sign(V)\n",
    "            self.streamplot = self.ax1.quiver(self.X, self.Y, U, V, scale=1, units='xy', angles=\"xy\", scale_units=\"xy\")\n",
    "\n",
    "        else:\n",
    "            self.streamplot = self.ax1.streamplot(self.X, self.Y, U, V)\n",
    "\n",
    "        self.density_plot = self.ax2.plot_surface(self.X, self.Y, self.density_values_yx)\n",
    "\n",
    "        self.timestep += 1\n",
    "        # if self.timestep > self.animation_timesteps:\n",
    "        #     print(\"TIMESTEP RESETTED\")\n",
    "        #     self.timestep = 0\n",
    "        title = \"Velocity field for t={}\".format(self.timestep)\n",
    "        self.ax1.set_title(title)\n",
    "        self.ax1.set_xlim(0, self.x_lim)\n",
    "        self.ax1.set_ylim(0, self.y_lim)\n",
    "        self.ax1.set_xticks(np.arange(0, self.x_lim, 1))\n",
    "        self.ax1.set_yticks(np.arange(0, self.y_lim, 1))\n",
    "        self.ax1.grid()\n",
    "\n",
    "        title = \"Density field for t={}\".format(self.timestep)\n",
    "        self.ax2.set_title(title)\n",
    "        # self.ax2.set_zlim(0, 0.3)\n",
    "\n",
    "\n",
    "        self.ax1.set_xlabel('x')\n",
    "        self.ax1.set_ylabel('y')\n",
    "        self.ax2.set_xlabel('x')\n",
    "        self.ax2.set_ylabel('y')\n",
    "        self.ax2.set_zlabel('Density')\n",
    "\n",
    "        max_velocity = calc_max_velocity_magnitude(self.average_velocity_field_directions_yxc)\n",
    "        print(\"max velocity in timestep {}: {}\".format(self.timestep, max_velocity))\n",
    "              \n",
    "        return [self.streamplot, self.density_plot]\n",
    "\n",
    "    def start_animation(self, animation_timesteps = 20, delay_interval = 200):\n",
    "        self.animation_timesteps = animation_timesteps\n",
    "        self.animation = animation.FuncAnimation(self.fig1, self.update_animation, frames=animation_timesteps, interval=delay_interval, blit=False, save_count=50, repeat = False)\n",
    "        plt.show()\n",
    "        \n"
   ]
  },
  {
   "attachments": {},
   "cell_type": "markdown",
   "metadata": {},
   "source": [
    "### Animation of Velocity and density field"
   ]
  },
  {
   "cell_type": "code",
   "execution_count": 68,
   "metadata": {},
   "outputs": [],
   "source": [
    "# # # # testing velocity field animation\n",
    "# # f_values_iyx, L = shear_wave_initialization_1(grid_size_y, grid_size_x, rho_0, epsilon=0.0001)\n",
    "# density_values_yx, average_velocity_field_directions_yxc = calc_density_and_average_velocity(f_values_iyx)\n",
    "# # plot_density_field(density_values_yx)\n",
    "# animation_plot = Velocity_field_animation(f_values_iyx, density_values_yx, average_velocity_field_directions_yxc, grid_size=[grid_size_x, grid_size_y], timestep=0)\n",
    "# animation_plot.start_animation(animation_timesteps=100, delay_interval = 500)"
   ]
  },
  {
   "cell_type": "code",
   "execution_count": 69,
   "metadata": {},
   "outputs": [],
   "source": [
    "# f_values_iyx, L = shear_wave_initialization_1(grid_size_y, grid_size_x, rho_0, epsilon=0.0001)\n",
    "# density_values_yx, average_velocity_field_directions_yxc = calc_density_and_average_velocity(f_values_iyx)\n",
    "# plot_grid_datafield(density_values_yx)\n",
    "# plt.show()"
   ]
  },
  {
   "attachments": {},
   "cell_type": "markdown",
   "metadata": {},
   "source": [
    "#### Mass conservation check"
   ]
  },
  {
   "cell_type": "code",
   "execution_count": 70,
   "metadata": {},
   "outputs": [
    {
     "name": "stdout",
     "output_type": "stream",
     "text": [
      "Mass before update = 13500.0\n",
      "Mass after update = 13499.999999999998\n"
     ]
    }
   ],
   "source": [
    "# mass = density * volume\n",
    "full_volume = grid_values_count\n",
    "\n",
    "# initial computation of velocity field for visualization\n",
    "grid_data_values_yx, average_velocity_field_directions_yxc = calc_density_and_average_velocity(f_values_iyx)\n",
    "# plot_density_field(density_values_yx, 0)\n",
    "# plot_velocity_field(velocity_field_yxc, 0)\n",
    "\n",
    "full_density = np.sum(grid_data_values_yx)\n",
    "mass_before_update = full_density * full_volume\n",
    "\n",
    "# do a timestep update and plot\n",
    "f_values_iyx, grid_data_values_yx, average_velocity_field_directions_yxc = update(f_values_iyx, grid_data_values_yx, average_velocity_field_directions_yxc)\n",
    "# plot_density_field(density_values_yx, 1)\n",
    "# plot_velocity_field(velocity_field_yxc, 1)\n",
    "\n",
    "full_density = np.sum(grid_data_values_yx)\n",
    "mass_after_update = full_density * full_volume\n",
    "\n",
    "print(\"Mass before update = {}\".format(mass_before_update))\n",
    "print(\"Mass after update = {}\".format(mass_after_update))"
   ]
  },
  {
   "attachments": {},
   "cell_type": "markdown",
   "metadata": {},
   "source": [
    "### Shear wave decay"
   ]
  },
  {
   "cell_type": "code",
   "execution_count": 71,
   "metadata": {},
   "outputs": [],
   "source": [
    "def calc_analytical_solution_dim(a0, viscosity, L, timestep):\n",
    "    return a0 * np.exp(-viscosity * ((2 * np.pi / L)**2) * timestep) * np.sin(2 * np.pi * (np.arange(0, L, 1) / L))"
   ]
  },
  {
   "cell_type": "code",
   "execution_count": 72,
   "metadata": {},
   "outputs": [],
   "source": [
    "from scipy.signal import argrelextrema\n",
    "def calc_viscosity(simulated_solution, L):\n",
    "    # find indices of maxima\n",
    "    simulated_solution = np.array(simulated_solution)\n",
    "    indices = argrelextrema(simulated_solution, np.greater)[0]\n",
    "    maxima = simulated_solution[indices]\n",
    "    \n",
    "    viscosity_values = []\n",
    "\n",
    "    a0 = maxima[0]  # first maximum\n",
    "    timestep = indices[1] # timestep of first maximum after start\n",
    "    # fig, ax = plt.subplots()\n",
    "    # calculate viscosity from maxima[timestep] = a0 * np.exp(-viscosity * (2 * np.pi / L)**2 * timestep)\n",
    "    for index, maximum in zip(indices, maxima):\n",
    "        timestep = index\n",
    "        viscosity = np.log(maximum / a0) * -1 / (timestep * (2 * np.pi / L)**2)\n",
    "        if np.isnan(viscosity):\n",
    "            break\n",
    "\n",
    "        viscosity_values.append(viscosity)\n",
    "        # print(\"viscosity: {}\".format(viscosity))\n",
    "        # ax.plot(timestep, viscosity, 'o')\n",
    "\n",
    "    final_viscosity =np.inf\n",
    "    if len(viscosity_values) > 0:\n",
    "        final_viscosity = viscosity_values[-1]\n",
    "    print(\"Final predicted viscosity value: {}\".format(final_viscosity))\n",
    "    # plt.show()\n",
    "    return final_viscosity\n"
   ]
  },
  {
   "attachments": {},
   "cell_type": "markdown",
   "metadata": {},
   "source": [
    "#### Initialization 1"
   ]
  },
  {
   "cell_type": "code",
   "execution_count": 73,
   "metadata": {},
   "outputs": [],
   "source": [
    "# density per position given as rho_0 + epsilon * sin(2*pi*x/L_x) with L_x = grid_size_x\n",
    "# average velocity is 0 because the density is symmetric\n",
    "# sinusoidal perturbation in the density component in y direction\n",
    "\n",
    "def shear_wave_initialization_1(grid_size_y, grid_size_x, rho_0, epsilon=0.01):\n",
    "    f_values_iyx = np.zeros((9, grid_size_y, grid_size_x))\n",
    "    L = grid_size_x\n",
    "    initial_density_row = rho_0 + epsilon*np.sin(((2*np.pi/L) * np.arange(L)))\n",
    "    initial_density_yx = np.tile(initial_density_row, (grid_size_y,1))\n",
    "    f_values_iyx[:] = np.einsum('i,jk->ijk', omega_i, initial_density_yx)\n",
    "\n",
    "    \n",
    "\n",
    "    return f_values_iyx, L\n",
    "\n",
    "# f_values_iyx, L = shear_wave_initialization_1(grid_size_y, grid_size_x, rho_0, epsilon=0.0001)\n",
    "# density, u =  calc_density_and_average_velocity(f_values_iyx)\n",
    "# print(u.shape)\n",
    "# plot_grid_datafield(density, 0)"
   ]
  },
  {
   "attachments": {},
   "cell_type": "markdown",
   "metadata": {},
   "source": [
    "#### Initialization 2"
   ]
  },
  {
   "cell_type": "code",
   "execution_count": 74,
   "metadata": {},
   "outputs": [],
   "source": [
    "# density = sum of f_i = 1\n",
    "# average velocity u = 1/density * sum of (c_i * f_i) = epsilon * sin(2*pi*x/L_x)\n",
    "# sinusoidal perturbation in the velocity component in x direction\n",
    "\n",
    "def shear_wave_initialization_2(grid_size_y, grid_size_x, c_directions, omega_i, epsilon=0.01):\n",
    "    density_per_position = 1.\n",
    "    L = grid_size_y\n",
    "    initial_average_velocity_col_y = epsilon*np.sin(((2*np.pi/L) * np.arange(L)))\n",
    "    initial_average_velocity_yx = np.tile(initial_average_velocity_col_y, (grid_size_x,1)).T\n",
    "    # initialize f by calculating the equilibrium distribution f_i = omega_i * density * (1 + 3*c_i*u + 9/2*(c_i*u)^2 - 3/2*u^2)\n",
    "    u_norm_squared_yx = np.einsum(\"yx, yx -> yx\", initial_average_velocity_yx, initial_average_velocity_yx)\n",
    "    uc_yx = np.einsum(\"yx, i -> iyx\", initial_average_velocity_yx, c_directions[:,1])\n",
    "    f_values_iyx = np.einsum(\"i, iyx -> iyx\", omega_i*density_per_position, (1 + 3*uc_yx + 4.5*uc_yx**2 - 1.5*u_norm_squared_yx))\n",
    "    return f_values_iyx, L\n",
    "\n",
    "# density, u =  calc_density_and_average_velocity(f_values_iyx)\n",
    "# print(u.shape)\n",
    "# plot_grid_datafield(np.einsum(\"yxc, yxc ->yx\", u, u), 0, label=\"average velocity magnitude\")"
   ]
  },
  {
   "attachments": {},
   "cell_type": "markdown",
   "metadata": {},
   "source": [
    "#### check correctness of simulation"
   ]
  },
  {
   "cell_type": "code",
   "execution_count": 75,
   "metadata": {},
   "outputs": [],
   "source": [
    "def compare_simulation_and_analytical_solution(f_values_iyx, L, timesteps, epsilon, plot=False):\n",
    "    analytical_solution_velocity = []\n",
    "    simulated_solution_velocity = []\n",
    "    analytical_solution_velocity_time = []\n",
    "    simulated_solution_velocity_time = []\n",
    "\n",
    "    # calc initial density and average velocity field\n",
    "    density_values_yx, average_velocity_field_directions_yxc = calc_density_and_average_velocity(f_values_iyx)\n",
    "    # find index of first maximum of sinusoidal wave in y direction at t=0 and analytical solution for t=0\n",
    "    # TODO: CHECK IF HERE INDEX 0 FOR INITIALIZATION 1 NEEDED\n",
    "    y_components = average_velocity_field_directions_yxc[:,:,1]\n",
    "    index = np.unravel_index(y_components.argmax(), y_components.shape)\n",
    "    max_y_direction_velocity = average_velocity_field_directions_yxc[index[0], index[1], 1]\n",
    "    simulated_solution_velocity.append(max_y_direction_velocity)\n",
    "    \n",
    "    a0 = max_y_direction_velocity\n",
    "    viscosity = 1/3 * (1/omega - 0.5)\n",
    "    print(\"Analytical prediction for viscosity: {}\".format(viscosity))\n",
    "\n",
    "    analytical_solution_velocity_dim = calc_analytical_solution_dim(a0, viscosity, L, timestep=0)\n",
    "    analytical_solution_velocity_time.append(analytical_solution_velocity_dim)\n",
    "    analytical_solution_velocity.append(analytical_solution_velocity_dim[index[0]])\n",
    "\n",
    "    # TODO: ONLY DO THIS WITH INIT 1 AND CHANGE PARAMETERS ACCORDINGLY\n",
    "    # analytical_solution_density_dim = calc_analytical_solution_dim(a0, viscosity, L, timestep=0)\n",
    "    # analytical_solution_density.append(analytical_solution_density_dim[index[0]])\n",
    "    \n",
    "    # dimensions for plotting\n",
    "    x_dim = density_values_yx.shape[1]\n",
    "    y_dim = density_values_yx.shape[0]\n",
    "    x,y = np.meshgrid(np.arange(x_dim), np.arange(y_dim))\n",
    "\n",
    "    if plot: \n",
    "        fig = plt.figure(figsize=(15,10))\n",
    "        ax1 = fig.add_subplot(221)\n",
    "        ax2 = fig.add_subplot(222)\n",
    "        ax3 = fig.add_subplot(223, projection='3d')\n",
    "        ax4 = fig.add_subplot(224, projection='3d')\n",
    "\n",
    "        fig2 = plt.figure()\n",
    "        ax = fig2.add_subplot(111)\n",
    "    \n",
    "    for timestep in range(timesteps):\n",
    "        # find analytical solution\n",
    "        analytical_solution_velocity_dim = calc_analytical_solution_dim(a0, viscosity, L, timestep + 1)\n",
    "        analytical_solution_velocity_time.append(analytical_solution_velocity_dim / epsilon)\n",
    "        analytical_solution_velocity.append(analytical_solution_velocity_dim[index[0]])\n",
    "\n",
    "        # find simulated solution\n",
    "        f_values_iyx, density_values_yx, average_velocity_field_directions_yxc = update(f_values_iyx, density_values_yx, average_velocity_field_directions_yxc)\n",
    "        # calculate amplitude of average velocity sinusoidal wave in y direction\n",
    "        current_value_at_index = average_velocity_field_directions_yxc[index[0], index[1], 1]\n",
    "        simulated_solution_velocity_time.append(average_velocity_field_directions_yxc[:,0,1] / epsilon)\n",
    "        simulated_solution_velocity.append(current_value_at_index)\n",
    "        # simulated_solution_density.append(density_values_yx[index[0], index[1]])\n",
    "\n",
    "        average_velocity_field_magnitude_yx = np.sqrt(np.einsum(\"yxc, yxc ->yx\", average_velocity_field_directions_yxc, average_velocity_field_directions_yxc))\n",
    "        if plot and (timestep % 100 == 0 or timestep == timesteps-1):\n",
    "            ax1.set_title(\"Velocity field for t={}\".format(timestep))\n",
    "            ax1.ticklabel_format(useMathText=True)\n",
    "            # np.einsum(\"yxc, yxc ->yx\", average_velocity_field_directions_yxc, average_velocity_field_directions_yxc)\n",
    "            mappable1 = ax1.imshow(average_velocity_field_magnitude_yx, cmap='RdBu', origin='lower')\n",
    "            cbar1 = fig.colorbar(mappable1, ax=ax1, extend='both')\n",
    "            cbar1.minorticks_on()\n",
    "\n",
    "            ax2.set_title(\"Density field for t={}\".format(timestep))\n",
    "            ax2.ticklabel_format(useMathText=True)\n",
    "            mappable2 = ax2.imshow(density_values_yx, cmap='RdBu', origin='lower')\n",
    "            cbar2 = fig.colorbar(mappable2, ax=ax2, extend='both')\n",
    "            cbar2.minorticks_on()\n",
    "            \n",
    "            ax3.set_title(\"Velocity field for t={}\".format(timestep))\n",
    "            # ax3.set_zlim(-0.001, 0.001)\n",
    "            ax3.zaxis.set_major_formatter(mtick.FormatStrFormatter('%.2e'))\n",
    "            ax3.set_xlabel('x')\n",
    "            ax3.set_ylabel('y')\n",
    "            ax3.set_zlabel('u')\n",
    "            ax3.plot_surface(x, y, average_velocity_field_directions_yxc[:,:,1])\n",
    "            \n",
    "            ax4.set_title(\"Density field for t={}\".format(timestep))\n",
    "            ax4.set_zlim(0,1)\n",
    "            # ax4.zaxis.set_major_formatter(mtick.FormatStrFormatter('%.2e'))\n",
    "            ax4.plot_surface(x, y, density_values_yx)\n",
    "            plt.pause(0.5)\n",
    "            \n",
    "            if timestep != timesteps - 1:\n",
    "                cbar1.remove()\n",
    "                ax1.cla()\n",
    "                cbar2.remove()\n",
    "                ax2.cla()\n",
    "                ax3.cla()\n",
    "                ax4.cla()\n",
    "\n",
    "\n",
    "    return analytical_solution_velocity, simulated_solution_velocity, analytical_solution_velocity_time, simulated_solution_velocity_time\n"
   ]
  },
  {
   "attachments": {},
   "cell_type": "markdown",
   "metadata": {},
   "source": [
    "#### Plot velocity and density profile"
   ]
  },
  {
   "cell_type": "code",
   "execution_count": null,
   "metadata": {},
   "outputs": [],
   "source": [
    "epsilon=0.01\n",
    "omega = 0.8\n",
    "timesteps = 10000\n",
    "\n",
    "# f_values_iyx, L =  shear_wave_initialization_1(grid_size_y, grid_size_x, rho_0, epsilon=epsilon)\n",
    "f_values_iyx, L =  shear_wave_initialization_2(grid_size_y, grid_size_x, c_directions, omega_i, epsilon=epsilon)\n",
    "analytical_solution, simulated_solution, analytical_solution_vel_time, simulated_solution_vel_time = compare_simulation_and_analytical_solution(f_values_iyx, L, timesteps, epsilon, plot=False)\n",
    "simulation_viscosity = calc_viscosity(simulated_solution, L)\n",
    "\n",
    "x_axis = np.arange(0, timesteps + 1, 1)\n",
    "fig_velocity = plt.figure()\n",
    "ax_velocity = fig_velocity.add_subplot(111)\n",
    "ax_velocity.plot(x_axis, np.array(simulated_solution) / epsilon, label=\"simulated\")\n",
    "ax_velocity.plot(x_axis, np.array(analytical_solution) / epsilon, label=\"analytical\")\n",
    "ax_velocity.set_xlabel(\"timestep\")\n",
    "ax_velocity.set_ylabel(\"u\")\n",
    "ax_velocity.set_title(\"Velocity profile at one position in y direction over time\")\n",
    "ax_velocity.legend()\n",
    "plt.show()\n",
    "\n",
    "\n",
    "fig = plt.figure()\n",
    "ax = fig.add_subplot(111, projection='3d')\n",
    "x_axis = np.arange(0, grid_size_y, 1) / grid_size_y\n",
    "y_axis = np.arange(0, timesteps + 1, 1)\n",
    "X, Y = np.meshgrid(x_axis, y_axis[1:])\n",
    "# ax.plot(x_axis, ys=0, zs=np.array(simulated_solution_vel_time[0]))\n",
    "ax.plot_surface(X, Y, np.array(simulated_solution_vel_time), rstride=10, cstride=1000, label=\"simulated\")\n",
    "\n",
    "# start plotting after first timestep to stop the plot to be filled at t=0\n",
    "ax.plot_surface(X, Y, np.array(analytical_solution_vel_time)[1:, :], cmap=cm.coolwarm, linewidth=0, label=\"analytical\")\n",
    "ax.set_xlabel(\"y/L_y\")\n",
    "ax.set_ylabel('t')\n",
    "ax.set_zlabel(\"u*\")\n",
    "ax.set_title(\"Velocity profile over time\")\n",
    "\n",
    "# for timestep in range(timesteps):\n",
    "#     if timestep % 20 != 0:\n",
    "#         continue\n",
    "#     line_x = x_axis\n",
    "#     line_y = timestep * np.ones(len(x_axis))\n",
    "#     print(np.array(simulated_solution_vel_time).shape)\n",
    "#     x,y = np.meshgrid(line_x, line_y)\n",
    "#     line_z = np.array(simulated_solution_vel_time)[timestep, :]\n",
    "#     print(line_z.shape)\n",
    "\n",
    "#     ax.plot(line_x, line_y, line_z, c='blue')\n",
    "\n",
    "plt.show()\n",
    "\n",
    "# fig_density = plt.figure()\n",
    "# ax_density = fig_density.add_subplot(111)\n",
    "# ax_density.plot(x_axis, np.array(simulated_solution_density) / epsilon, label=\"simulated\")\n",
    "# ax_density.plot(x_axis, np.array(analytical_solution_density) / epsilon, label=\"analytical\")\n",
    "# ax_density.set_xlabel(\"timestep\")\n",
    "# ax_density.set_ylabel(\"u\")\n",
    "# ax_density.set_title(\"Density profile at one position over time\")\n",
    "# ax_density.legend()\n",
    "# plt.show()"
   ]
  },
  {
   "attachments": {},
   "cell_type": "markdown",
   "metadata": {},
   "source": [
    "#### Plot measured viscosity vs omega"
   ]
  },
  {
   "cell_type": "code",
   "execution_count": null,
   "metadata": {},
   "outputs": [],
   "source": [
    "# init omega list as values from 0 to 2 in 0.1 steps\n",
    "omega_values = [x/10 for x in range(1, 20, 1)]\n",
    "simulated_viscositites = []\n",
    "analytical_viscositites = []\n",
    "\n",
    "epsilon=0.01\n",
    "\n",
    "for omega in omega_values:\n",
    "    analytical_viscositites.append(1/3 * (1/omega - 0.5))\n",
    "    f_values_iyx, L = shear_wave_initialization_1(grid_size_y, grid_size_x, rho_0, epsilon=epsilon)\n",
    "    # f_values_iyx, L =  shear_wave_initialization_2(grid_size_y, grid_size_x, c_directions, omega_i, epsilon=epsilon)\n",
    "    analytical_solution, simulated_solution = compare_simulation_and_analytical_solution(f_values_iyx, L, 2000, epsilon)\n",
    "    simulation_viscosity = calc_viscosity(simulated_solution, L)\n",
    "    simulated_viscositites.append(simulation_viscosity)\n",
    "\n",
    "print(analytical_viscositites)\n",
    "print(simulated_viscositites)\n",
    "\n",
    "plt.plot(omega_values, analytical_viscositites, label=\"analytical viscosity\")\n",
    "plt.plot(omega_values, simulated_viscositites, label=\"simulated viscosity\")\n",
    "plt.legend()\n",
    "plt.xlabel(\"omega\")\n",
    "plt.ylabel(\"viscosity\")\n",
    "plt.title(\"Analytical and simulated solution for viscosity\")"
   ]
  }
 ],
 "metadata": {
  "kernelspec": {
   "display_name": "FM_venv",
   "language": "python",
   "name": "python3"
  },
  "language_info": {
   "codemirror_mode": {
    "name": "ipython",
    "version": 3
   },
   "file_extension": ".py",
   "mimetype": "text/x-python",
   "name": "python",
   "nbconvert_exporter": "python",
   "pygments_lexer": "ipython3",
   "version": "3.10.6"
  },
  "orig_nbformat": 4
 },
 "nbformat": 4,
 "nbformat_minor": 2
}
