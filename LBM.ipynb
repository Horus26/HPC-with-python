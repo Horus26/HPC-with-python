{
 "cells": [
  {
   "cell_type": "code",
   "execution_count": 1,
   "metadata": {},
   "outputs": [],
   "source": [
    "import numpy as np\n",
    "import matplotlib.pyplot as plt\n",
    "import matplotlib.animation as animation\n",
    "from functools import partial\n",
    "\n",
    "# for matplotlib backends see: https://matplotlib.org/stable/users/explain/backends.html\n",
    "# WHEN CHANGING MATPLOTLIB BACKEND, RESTART THE KERNEL\n",
    "\n",
    "# use inline for basic inline graphs, but no animations\n",
    "# %matplotlib inline\n",
    "\n",
    "# use widget for inline animations\n",
    "# %matplotlib widget\n",
    "\n",
    "# use qt for interactive pop up windows of graphs --> must restart kernel\n",
    "import matplotlib\n",
    "matplotlib.use('QtAgg')\n",
    "%matplotlib qt"
   ]
  },
  {
   "attachments": {},
   "cell_type": "markdown",
   "metadata": {},
   "source": [
    "### Define constants"
   ]
  },
  {
   "cell_type": "code",
   "execution_count": 2,
   "metadata": {},
   "outputs": [],
   "source": [
    "grid_size_x = 150\n",
    "grid_size_y = 100\n",
    "grid_values_count = grid_size_x * grid_size_y\n",
    "rho_0 = 0.8\n",
    "omega_i = np.array([4/9, 1/9, 1/9, 1/9, 1/9, 1/36, 1/36, 1/36, 1/36])\n",
    "omega = 0.8"
   ]
  },
  {
   "attachments": {},
   "cell_type": "markdown",
   "metadata": {},
   "source": [
    "### Intialize arrays"
   ]
  },
  {
   "cell_type": "code",
   "execution_count": 3,
   "metadata": {},
   "outputs": [],
   "source": [
    "# arrays defined in format y,x which is row, column if not stated differently\n",
    "\n",
    "# Velocity directions c (defined by [x,y] components)\n",
    "c_directions = np.array([\n",
    "                [ 0, 0], # 0 ()\n",
    "                [ 1, 0], # 1 (right)\n",
    "                [ 0, 1], # 2 (up)\n",
    "                [-1, 0], # 3 (left)\n",
    "                [ 0,-1], # 4 (down)\n",
    "                [ 1, 1], # 5 (right-up)\n",
    "                [-1, 1], # 6 (left-up)\n",
    "                [-1,-1], # 7 (left-down)\n",
    "                [ 1,-1]  # 8 (right-down)\n",
    "             ])\n",
    "\n",
    "# indices: i = discretized velocity index (0-8), y = row, x = column\n",
    "f_values_iyx = np.zeros((9, grid_size_y, grid_size_x))"
   ]
  },
  {
   "attachments": {},
   "cell_type": "markdown",
   "metadata": {},
   "source": [
    "#### Different density initializations"
   ]
  },
  {
   "cell_type": "code",
   "execution_count": 4,
   "metadata": {},
   "outputs": [],
   "source": [
    "# evenly distribute density in all directions for all grid points\n",
    "# impurity_density = 0.1 * rho_0\n",
    "# initial_equal_density_per_position = (rho_0-impurity_density) / float(grid_values_count-1) \n",
    "# f_values_iyx = np.full((9, grid_size_y, grid_size_x), initial_equal_density_per_position / 9.)\n",
    "\n",
    "# # # add one impurity at center\n",
    "# f_values_iyx[:,5,7] = impurity_density / 9."
   ]
  },
  {
   "cell_type": "code",
   "execution_count": 5,
   "metadata": {},
   "outputs": [],
   "source": [
    "# calculate a \"border\", which is a vertical line, that seperates two directions\n",
    "# this enables an initialization which can be used for a quick visual check of the streaming function\n",
    "inital_border_value = np.rint(grid_size_x/2).astype(np.uint8)\n",
    "initial_equal_density_per_position = rho_0 / float(grid_values_count) \n",
    "f_values_iyx[5, :, inital_border_value:] = initial_equal_density_per_position * 1/4\n",
    "f_values_iyx[1, :, 0:inital_border_value] = initial_equal_density_per_position * 3/4\n",
    "f_values_iyx[1,:,:] = initial_equal_density_per_position"
   ]
  },
  {
   "attachments": {},
   "cell_type": "markdown",
   "metadata": {},
   "source": [
    "### Functions"
   ]
  },
  {
   "attachments": {},
   "cell_type": "markdown",
   "metadata": {},
   "source": [
    "##### Density function"
   ]
  },
  {
   "cell_type": "code",
   "execution_count": 6,
   "metadata": {},
   "outputs": [],
   "source": [
    "def compute_density_field(f_values_iyx):\n",
    "    return np.sum(f_values_iyx, axis=0)"
   ]
  },
  {
   "attachments": {},
   "cell_type": "markdown",
   "metadata": {},
   "source": [
    "#### Velocity field function"
   ]
  },
  {
   "cell_type": "code",
   "execution_count": 7,
   "metadata": {},
   "outputs": [],
   "source": [
    "def calc_density_and_average_velocity(f_values_iyx):\n",
    "\n",
    "    # calculate current density\n",
    "    density_values_yx = compute_density_field(f_values_iyx)\n",
    "\n",
    "    # do: [:,np.newaxis] so that broadcasting works\n",
    "    # multiply every element of f_values_iyx with it respective direction given by index i and then sum over all directions for a position jk\n",
    "    # the resulting array has shape (y,x,2) and contains a velocity direction for every position and is divided by the respective density\n",
    "    # indices: y = row, x = column, c = cartesian coordinates of respective velocity at position given in format [x,y]\n",
    "    average_velocity_field_directions_yxc = np.divide(np.einsum(\"ijk, il->jkl\", f_values_iyx, c_directions), density_values_yx[..., np.newaxis])\n",
    " \n",
    "    return density_values_yx, average_velocity_field_directions_yxc\n"
   ]
  },
  {
   "attachments": {},
   "cell_type": "markdown",
   "metadata": {},
   "source": [
    "#### Collision term"
   ]
  },
  {
   "cell_type": "code",
   "execution_count": 8,
   "metadata": {},
   "outputs": [],
   "source": [
    "# u is the average velocity\n",
    "# yx describes row, column\n",
    "# c is cartesian coordinates [xy]\n",
    "# i is the velocity discretization[0..8] <-- 9 values\n",
    "def calc_collision_term(f_values_iyx, density_values_yx, u_yxc):\n",
    "    # precompute terms\n",
    "    u_norm_squared_yx = np.einsum(\"yxc, yxc -> yx\", u_yxc, u_yxc)\n",
    "    uc_yx = np.einsum(\"yxc, ic -> iyx\", u_yxc, c_directions)\n",
    "    f_eq_iyx = np.einsum('i,jk->ijk', omega_i, density_values_yx) * (1 + 3 * uc_yx + 4.5 * uc_yx**2 - 1.5 * u_norm_squared_yx)\n",
    "    # return updated f values after collision\n",
    "    return  (1-omega) * f_values_iyx + omega * f_eq_iyx\n"
   ]
  },
  {
   "attachments": {},
   "cell_type": "markdown",
   "metadata": {},
   "source": [
    "#### Streaming Function"
   ]
  },
  {
   "cell_type": "code",
   "execution_count": 9,
   "metadata": {},
   "outputs": [],
   "source": [
    "def streaming(f_values_iyx):      \n",
    "    # start at index 1 because direction 0 (0,0) does not change anything with roll call, axis=(1,0) means first in x direction, then in y direction because f is defined by rrow, col (=y,x) indices \n",
    "    for i in range(1, len(c_directions)): f_values_iyx[i] = np.roll(f_values_iyx[i], shift=c_directions[i], axis=(1,0))\n",
    "    return f_values_iyx"
   ]
  },
  {
   "attachments": {},
   "cell_type": "markdown",
   "metadata": {},
   "source": [
    "#### Update function that handles going to next time step"
   ]
  },
  {
   "cell_type": "code",
   "execution_count": 10,
   "metadata": {},
   "outputs": [],
   "source": [
    "def update(f_values_iyx, density_values_yx, average_velocity_field_directions_yxc):\n",
    "    f_values_iyx = streaming(f_values_iyx)\n",
    "    density_values_yx, average_velocity_field_directions_yxc = calc_density_and_average_velocity(f_values_iyx)\n",
    "    f_values_iyx = calc_collision_term(f_values_iyx, density_values_yx, average_velocity_field_directions_yxc)\n",
    "    density_values_yx, average_velocity_field_directions_yxc = calc_density_and_average_velocity(f_values_iyx)\n",
    "\n",
    "    return f_values_iyx, density_values_yx, average_velocity_field_directions_yxc"
   ]
  },
  {
   "cell_type": "code",
   "execution_count": 11,
   "metadata": {},
   "outputs": [],
   "source": [
    "# find max velocity magnitude in average velocity field\n",
    "def calc_max_velocity_magnitude(average_velocity_field_directions_yxc):\n",
    "    # calculate magnitude of velocity vectors\n",
    "    velocity_magnitude_yx = np.linalg.norm(average_velocity_field_directions_yxc, axis=2)\n",
    "    max_velocity_magnitude = np.max(velocity_magnitude_yx)\n",
    "    return max_velocity_magnitude"
   ]
  },
  {
   "attachments": {},
   "cell_type": "markdown",
   "metadata": {},
   "source": [
    "### Visualization"
   ]
  },
  {
   "attachments": {},
   "cell_type": "markdown",
   "metadata": {},
   "source": [
    "#### Density plot"
   ]
  },
  {
   "cell_type": "code",
   "execution_count": 12,
   "metadata": {},
   "outputs": [],
   "source": [
    "def plot_grid_datafield(grid_data_values_yx ,timestep = None, label=\"Density\"):\n",
    "    fig = plt.figure()\n",
    "    ax = fig.add_subplot(111, projection='3d')\n",
    "\n",
    "    x_dim = grid_data_values_yx.shape[1]\n",
    "    y_dim = grid_data_values_yx.shape[0]\n",
    "    x,y = np.meshgrid(np.arange(x_dim), np.arange(y_dim))\n",
    "\n",
    "    ax.plot_surface(x, y, grid_data_values_yx)\n",
    "\n",
    "    ax.set_xlabel('x')\n",
    "    ax.set_ylabel('y')\n",
    "    ax.set_zlabel(label)\n",
    "    title = label + \" field\"\n",
    "    if timestep is not None:\n",
    "        title += \" for t={}\".format(timestep)\n",
    "    ax.set_title(title)\n",
    "\n",
    "    plt.show()"
   ]
  },
  {
   "attachments": {},
   "cell_type": "markdown",
   "metadata": {},
   "source": [
    "#### Velocity field plot"
   ]
  },
  {
   "cell_type": "code",
   "execution_count": 13,
   "metadata": {},
   "outputs": [],
   "source": [
    "# plot velocity streamlines and plot average velocity y component over time on grid\n",
    "def plot_velocity_field(velocity_field_yxc, timestep : int = 0):\n",
    "\n",
    "    # define grid of velocity field\n",
    "    x = np.arange(grid_size_x)\n",
    "    y = np.arange(grid_size_y)\n",
    "\n",
    "    X, Y = np.meshgrid(x, y)\n",
    "    fig = plt.figure()\n",
    "    ax = fig.add_subplot(111)\n",
    "    ax.set_aspect('equal')\n",
    "\n",
    "    # velocity x direction\n",
    "    U = velocity_field_yxc[:,:,0]\n",
    "    # velocity y direction\n",
    "    V = velocity_field_yxc[:,:,1]\n",
    "\n",
    "    # normalize when using quiver --> use quiver for exakt representation of velocity directions\n",
    "    # U = np.sign(U)\n",
    "    # V = np.sign(V)\n",
    "    # ax.quiver(X, Y, U, V, scale=1, units='xy', angles=\"xy\", scale_units=\"xy\") #is also a good option\n",
    "\n",
    "    stream = ax.streamplot(X, Y, U, V, density=(grid_size_x/10, grid_size_y/10), integration_direction=\"forward\")\n",
    "    \n",
    "    ax.set_xticks(np.arange(0, grid_size_x, 1))\n",
    "    ax.set_yticks(np.arange(0, grid_size_y, 1))\n",
    "    \n",
    "    ax.grid()\n",
    "\n",
    "    ax.set_xlabel('x')\n",
    "    ax.set_ylabel('y')\n",
    "\n",
    "    title = \"Velocity field for t={}\".format(timestep)\n",
    "    ax.set_title(title)\n",
    "\n",
    "    fig2 = plt.figure()\n",
    "    ax2 = fig2.add_subplot(111)\n",
    "    ax2.set_aspect('equal')\n",
    "    ax2.plot(X[0], V[0])\n",
    "    ax2.set_xlabel('x')\n",
    "    ax2.set_ylabel('Velocity y component')"
   ]
  },
  {
   "cell_type": "code",
   "execution_count": 14,
   "metadata": {},
   "outputs": [],
   "source": [
    "class Velocity_field_animation:\n",
    "    def __init__(self, f_values_iyx, density_values_yx, average_velocity_field_directions_yxc, grid_size, timestep = 0, use_quiver = False):\n",
    "\n",
    "        self.use_quiver = use_quiver\n",
    "        # Start with a normal distribution\n",
    "        self.timestep = timestep\n",
    "        # define grid of velocity field\n",
    "        x = np.arange(grid_size[0])\n",
    "        y = np.arange(grid_size[1])\n",
    "        self.x_lim = grid_size[0] - 1\n",
    "        self.y_lim = grid_size[1] - 1\n",
    "\n",
    "        self.X, self.Y = np.meshgrid(x, y)\n",
    "\n",
    "        self.fig1 = plt.figure(figsize=plt.figaspect((grid_size[1]/grid_size[0])/2))\n",
    "        self.ax1 = self.fig1.add_subplot(121)\n",
    "        self.ax2 = self.fig1.add_subplot(122, projection='3d')\n",
    "\n",
    "        # velocity x direction\n",
    "        U = average_velocity_field_directions_yxc[:,:,0]\n",
    "        # velocity y direction\n",
    "        V = average_velocity_field_directions_yxc[:,:,1]\n",
    "\n",
    "        self.streamplot = None\n",
    "        self.f_values_iyx = f_values_iyx\n",
    "        self.density_values_yx = density_values_yx\n",
    "        self.average_velocity_field_directions_yxc = average_velocity_field_directions_yxc\n",
    "        \n",
    "        # plotting with quiver\n",
    "        if self.use_quiver:\n",
    "            U = np.sign(U)\n",
    "            V = np.sign(V)\n",
    "            self.streamplot = self.ax1.quiver(self.X, self.Y, U, V, scale=1, units='xy', angles=\"xy\", scale_units=\"xy\")\n",
    "\n",
    "        else:\n",
    "            self.streamplot = self.ax1.streamplot(self.X, self.Y, U, V)\n",
    "        \n",
    "        # plot density field\n",
    "        self.density_plot = self.ax2.plot_surface(self.X, self.Y, self.density_values_yx)\n",
    "\n",
    "\n",
    "        self.ax1.set_xlim(0, self.x_lim)\n",
    "        self.ax1.set_ylim(0, self.y_lim)\n",
    "        self.ax1.set_xticks(np.arange(0, self.x_lim, 1))\n",
    "        self.ax1.set_yticks(np.arange(0, self.y_lim, 1))\n",
    "        self.ax1.grid()\n",
    "\n",
    "\n",
    "        self.ax1.set_xlabel('x')\n",
    "        self.ax1.set_ylabel('y')\n",
    "        self.ax2.set_xlabel('x')\n",
    "        self.ax2.set_ylabel('y')\n",
    "        self.ax2.set_zlabel('Density')\n",
    "\n",
    "\n",
    "        title = \"Velocity field for t={}\".format(timestep)\n",
    "        self.ax1.set_title(title)\n",
    "        title = \"Density field for t={}\".format(timestep)\n",
    "        self.ax2.set_title(title)\n",
    "\n",
    "        self.animation = None\n",
    "        self.paused = False\n",
    "        self.animation_timesteps = 20\n",
    "\n",
    "        self.fig1.canvas.mpl_connect('button_press_event', self.toggle_pause)\n",
    "\n",
    "    def toggle_pause(self, *args, **kwargs):\n",
    "        if self.paused:\n",
    "            self.animation.resume()\n",
    "        else:\n",
    "            self.animation.pause()\n",
    "        self.paused = not self.paused\n",
    "\n",
    "    def update_animation(self, i):\n",
    "        self.ax1.cla()\n",
    "        self.ax2.cla()\n",
    "\n",
    "        self.f_values_iyx, self.density_values_yx, self.average_velocity_field_directions_yxc = update(self.f_values_iyx, self.density_values_yx, self.average_velocity_field_directions_yxc)\n",
    "        U = self.average_velocity_field_directions_yxc[:,:,0]\n",
    "        V = self.average_velocity_field_directions_yxc[:,:,1]\n",
    "        \n",
    "        # plotting with quiver\n",
    "        if self.use_quiver:\n",
    "            U = np.sign(U)\n",
    "            V = np.sign(V)\n",
    "            self.streamplot = self.ax1.quiver(self.X, self.Y, U, V, scale=1, units='xy', angles=\"xy\", scale_units=\"xy\")\n",
    "\n",
    "        else:\n",
    "            self.streamplot = self.ax1.streamplot(self.X, self.Y, U, V)\n",
    "\n",
    "        self.density_plot = self.ax2.plot_surface(self.X, self.Y, self.density_values_yx)\n",
    "\n",
    "        self.timestep += 1\n",
    "        # if self.timestep > self.animation_timesteps:\n",
    "        #     print(\"TIMESTEP RESETTED\")\n",
    "        #     self.timestep = 0\n",
    "        title = \"Velocity field for t={}\".format(self.timestep)\n",
    "        self.ax1.set_title(title)\n",
    "        self.ax1.set_xlim(0, self.x_lim)\n",
    "        self.ax1.set_ylim(0, self.y_lim)\n",
    "        self.ax1.set_xticks(np.arange(0, self.x_lim, 1))\n",
    "        self.ax1.set_yticks(np.arange(0, self.y_lim, 1))\n",
    "        self.ax1.grid()\n",
    "\n",
    "        title = \"Density field for t={}\".format(self.timestep)\n",
    "        self.ax2.set_title(title)\n",
    "        # self.ax2.set_zlim(0, 0.3)\n",
    "\n",
    "\n",
    "        self.ax1.set_xlabel('x')\n",
    "        self.ax1.set_ylabel('y')\n",
    "        self.ax2.set_xlabel('x')\n",
    "        self.ax2.set_ylabel('y')\n",
    "        self.ax2.set_zlabel('Density')\n",
    "\n",
    "        max_velocity = calc_max_velocity_magnitude(self.average_velocity_field_directions_yxc)\n",
    "        print(\"max velocity in timestep {}: {}\".format(self.timestep, max_velocity))\n",
    "              \n",
    "        return [self.streamplot, self.density_plot]\n",
    "\n",
    "    def start_animation(self, animation_timesteps = 20, delay_interval = 200):\n",
    "        self.animation_timesteps = animation_timesteps\n",
    "        self.animation = animation.FuncAnimation(self.fig1, self.update_animation, frames=animation_timesteps, interval=delay_interval, blit=False, save_count=50, repeat = False)\n",
    "        plt.show()\n",
    "        \n"
   ]
  },
  {
   "attachments": {},
   "cell_type": "markdown",
   "metadata": {},
   "source": [
    "### Animation of Velocity and density field"
   ]
  },
  {
   "cell_type": "code",
   "execution_count": 15,
   "metadata": {},
   "outputs": [],
   "source": [
    "# # # testing velocity field animation\n",
    "# density_values_yx, average_velocity_field_directions_yxc = calc_density_and_average_velocity(f_values_iyx)\n",
    "# # plot_density_field(density_values_yx)\n",
    "# animation_plot = Velocity_field_animation(f_values_iyx, density_values_yx, average_velocity_field_directions_yxc, grid_size=[grid_size_x, grid_size_y], timestep=0)\n",
    "# animation_plot.start_animation(animation_timesteps=100, delay_interval = 500)"
   ]
  },
  {
   "cell_type": "code",
   "execution_count": 16,
   "metadata": {},
   "outputs": [],
   "source": [
    "# density_values_yx, average_velocity_field_directions_yxc = calc_density_and_average_velocity(f_values_iyx)\n",
    "# plot_velocity_field(average_velocity_field_directions_yxc)\n",
    "# plt.show()"
   ]
  },
  {
   "attachments": {},
   "cell_type": "markdown",
   "metadata": {},
   "source": [
    "#### Mass conservation check"
   ]
  },
  {
   "cell_type": "code",
   "execution_count": 17,
   "metadata": {},
   "outputs": [
    {
     "name": "stdout",
     "output_type": "stream",
     "text": [
      "Mass before update = 13500.0\n",
      "Mass after update = 13499.999999999998\n"
     ]
    }
   ],
   "source": [
    "# mass = density * volume\n",
    "full_volume = grid_values_count\n",
    "\n",
    "# initial computation of velocity field for visualization\n",
    "grid_data_values_yx, average_velocity_field_directions_yxc = calc_density_and_average_velocity(f_values_iyx)\n",
    "# plot_density_field(density_values_yx, 0)\n",
    "# plot_velocity_field(velocity_field_yxc, 0)\n",
    "\n",
    "full_density = np.sum(grid_data_values_yx)\n",
    "mass_before_update = full_density * full_volume\n",
    "\n",
    "# do a timestep update and plot\n",
    "f_values_iyx, grid_data_values_yx, average_velocity_field_directions_yxc = update(f_values_iyx, grid_data_values_yx, average_velocity_field_directions_yxc)\n",
    "# plot_density_field(density_values_yx, 1)\n",
    "# plot_velocity_field(velocity_field_yxc, 1)\n",
    "\n",
    "full_density = np.sum(grid_data_values_yx)\n",
    "mass_after_update = full_density * full_volume\n",
    "\n",
    "print(\"Mass before update = {}\".format(mass_before_update))\n",
    "print(\"Mass after update = {}\".format(mass_after_update))"
   ]
  },
  {
   "attachments": {},
   "cell_type": "markdown",
   "metadata": {},
   "source": [
    "### Shear wave decay"
   ]
  },
  {
   "cell_type": "code",
   "execution_count": 18,
   "metadata": {},
   "outputs": [],
   "source": [
    "# test the implementation with shear wave decay\n",
    "f_values_iyx = np.ones((9, grid_size_y, grid_size_x))\n",
    "epsilon = 0.0001"
   ]
  },
  {
   "cell_type": "code",
   "execution_count": 19,
   "metadata": {},
   "outputs": [],
   "source": [
    "def calc_analytical_solution_velocity_amplitude(a0, viscosity, L, timestep):\n",
    "    return a0 * np.exp(-viscosity * ((2 * np.pi / L)**2) * timestep)"
   ]
  },
  {
   "cell_type": "code",
   "execution_count": 24,
   "metadata": {},
   "outputs": [],
   "source": [
    "from scipy.signal import argrelextrema\n",
    "def calc_viscosity(simulated_solution, L):\n",
    "    # find indices of maxima\n",
    "    simulated_solution = np.array(simulated_solution)\n",
    "    indices = argrelextrema(simulated_solution, np.greater)[0]\n",
    "    print(indices)\n",
    "    maxima = simulated_solution[indices]\n",
    "    \n",
    "    viscosity_values = []\n",
    "\n",
    "    a0 = maxima[0]  # first maximum\n",
    "    timestep = indices[1] # timestep of first maximum after start\n",
    "    viscosity = np.log(maxima[1] / a0) * -1 / (timestep * (2 * np.pi / L)**2)\n",
    "    print(\"predicted viscosity from simulation: {}\".format(viscosity))\n",
    "    # fig, ax = plt.subplots()\n",
    "    # # calculate viscosity from maxima[timestep] = a0 * np.exp(-viscosity * (2 * np.pi / L)**2 * timestep)\n",
    "    for index, maximum in zip(indices, maxima):\n",
    "        timestep = index\n",
    "        viscosity = np.log(maximum / a0) * -1 / (timestep * (2 * np.pi / L)**2)\n",
    "        viscosity_values.append(viscosity)\n",
    "        print(\"viscosity: {}\".format(viscosity))\n",
    "        # ax.plot(timestep, viscosity, 'o')\n",
    "\n",
    "    # print(\"viscosity values: {}\".format(np.array(viscosity_values).mean()))\n",
    "    # plt.show()\n"
   ]
  },
  {
   "attachments": {},
   "cell_type": "markdown",
   "metadata": {},
   "source": [
    "#### Initialization 1"
   ]
  },
  {
   "cell_type": "code",
   "execution_count": 55,
   "metadata": {},
   "outputs": [],
   "source": [
    "# density per position given as rho_0 + epsilon * sin(2*pi*x/L_x) with L_x = grid_size_x\n",
    "# average velocity is 0 because the density is symmetric\n",
    "# sinusoidal perturbation in the density component in y direction\n",
    "\n",
    "L = grid_size_x\n",
    "initial_density_row = rho_0 + epsilon*np.sin(((2*np.pi/grid_size_x) * np.arange(grid_size_x)))\n",
    "initial_density_yx = np.tile(initial_density_row, (grid_size_y,1))\n",
    "f_values_iyx[:] = initial_density_yx / 9.\n",
    "\n",
    "# density, u =  calc_density_and_average_velocity(f_values_iyx)\n",
    "# print(u.shape)\n",
    "# plot_grid_datafield(density, 0)"
   ]
  },
  {
   "attachments": {},
   "cell_type": "markdown",
   "metadata": {},
   "source": [
    "#### Initialization 2"
   ]
  },
  {
   "cell_type": "code",
   "execution_count": 25,
   "metadata": {},
   "outputs": [],
   "source": [
    "# density = sum of f_i = 1\n",
    "# average velocity u = 1/density * sum of (c_i * f_i) = epsilon * sin(2*pi*x/L_x)\n",
    "# sinusoidal perturbation in the velocity component in x direction\n",
    "\n",
    "density_per_position = 1.\n",
    "L = grid_size_y\n",
    "initial_average_velocity_col_y = epsilon*np.sin(((2*np.pi/grid_size_y) * np.arange(grid_size_y)))\n",
    "initial_average_velocity_yx = np.tile(initial_average_velocity_col_y, (grid_size_x,1)).T\n",
    "# initialize f by calculating the equilibrium distribution f_i = omega_i * density * (1 + 3*c_i*u + 9/2*(c_i*u)^2 - 3/2*u^2)\n",
    "u_norm_squared_yx = np.einsum(\"yx, yx -> yx\", initial_average_velocity_yx, initial_average_velocity_yx)\n",
    "uc_yx = np.einsum(\"yx, i -> iyx\", initial_average_velocity_yx, c_directions[:,1])\n",
    "f_values_iyx = np.einsum(\"i, iyx -> iyx\", omega_i*density_per_position, (1 + 3*uc_yx + 4.5*uc_yx**2 - 1.5*u_norm_squared_yx))\n",
    "\n",
    "# density, u =  calc_density_and_average_velocity(f_values_iyx)\n",
    "# print(u.shape)\n",
    "# plot_grid_datafield(np.einsum(\"yxc, yxc ->yx\", u, u), 0, label=\"average velocity magnitude\")"
   ]
  },
  {
   "attachments": {},
   "cell_type": "markdown",
   "metadata": {},
   "source": [
    "#### check correctness of simulation"
   ]
  },
  {
   "cell_type": "code",
   "execution_count": 31,
   "metadata": {},
   "outputs": [
    {
     "name": "stdout",
     "output_type": "stream",
     "text": [
      "3750\n",
      "(25, 0)\n",
      "Analytical prediction for viscosity: 0.25\n",
      "[  166   340   513   686   859  1032  1205  1379  1552  1725  1898  2071\n",
      "  2244  2418  2591  2764  2937  3110  3283  3457  3630  3803  3976  4149\n",
      "  4322  4495  4669  4842  5015  5188  5361  5534  5708  5881  6054  6227\n",
      "  6400  6573  6747  6920  7093  7266  7439  7612  7786  7959  8132  8305\n",
      "  8478  8651  8824  8998  9171  9344  9517  9690  9863 10037 10210 10383\n",
      " 10556 10729 10902 11076 11249 11422 11595 11768 11941 12115 12288 12461\n",
      " 12634 12807 12980 13153 13327 13500 13673 13846 14019 14192 14366 14539\n",
      " 14712 14885 15058 15231 15405 15578 15751 15924 16097 16270 16443 16617\n",
      " 16790 16963 17136 17309 17482 17656 17829 18002 18175 18348 18521 18694\n",
      " 18868 19041 19214 19560 19734 19820 19906]\n",
      "predicted viscosity from simulation: 0.1273674405377309\n",
      "viscosity: -0.0\n",
      "viscosity: 0.1273674405377309\n",
      "viscosity: 0.16883451203394237\n",
      "viscosity: 0.1893991255477392\n",
      "viscosity: 0.20169036208060218\n",
      "viscosity: 0.20986896516143552\n",
      "viscosity: 0.21570627190604186\n",
      "viscosity: 0.21990021996608383\n",
      "viscosity: 0.22329084274141045\n",
      "viscosity: 0.2260063183198935\n",
      "viscosity: 0.22823126398551688\n",
      "viscosity: 0.23008860960469343\n",
      "viscosity: 0.23166337644374704\n",
      "viscosity: 0.23291166241885466\n",
      "viscosity: 0.23407302538348215\n",
      "viscosity: 0.23509209265511077\n",
      "viscosity: 0.23599401011006932\n",
      "viscosity: 0.23679832864263423\n",
      "viscosity: 0.23752047834251366\n",
      "viscosity: 0.23810209731034243\n",
      "viscosity: 0.23868308106694477\n",
      "viscosity: 0.23921344833668215\n",
      "viscosity: 0.23969980671948496\n",
      "viscosity: 0.2401476618688517\n",
      "viscosity: 0.2405616380727659\n",
      "viscosity: 0.2409456478451536\n",
      "viscosity: 0.241241489549406\n",
      "viscosity: 0.24156619146036384\n",
      "viscosity: 0.2418701915455979\n",
      "viscosity: 0.24215556120443063\n",
      "viscosity: 0.24242410462339295\n",
      "viscosity: 0.24267740038966965\n",
      "viscosity: 0.24286860551347783\n",
      "viscosity: 0.24308770773897484\n",
      "viscosity: 0.24329569623174782\n",
      "viscosity: 0.2434934975934945\n",
      "viscosity: 0.24368193840724314\n",
      "viscosity: 0.24386175812651928\n",
      "viscosity: 0.24399467030957936\n",
      "viscosity: 0.24415240963873983\n",
      "viscosity: 0.244303656279639\n",
      "viscosity: 0.2444488746948632\n",
      "viscosity: 0.2445884852292229\n",
      "viscosity: 0.24472287114683797\n",
      "viscosity: 0.24482027201046253\n",
      "viscosity: 0.24493920011864098\n",
      "viscosity: 0.24505411701238022\n",
      "viscosity: 0.24516527274855499\n",
      "viscosity: 0.24527289833652696\n",
      "viscosity: 0.24537720519028292\n",
      "viscosity: 0.24547839083317538\n",
      "viscosity: 0.24554435054946883\n",
      "viscosity: 0.24563459535656754\n",
      "viscosity: 0.24572241266952627\n",
      "viscosity: 0.24580792932290185\n",
      "viscosity: 0.24589127383656847\n",
      "viscosity: 0.24597256000041498\n",
      "viscosity: 0.24602426995917318\n",
      "viscosity: 0.24609699140257965\n",
      "viscosity: 0.2461681053791482\n",
      "viscosity: 0.24623769840139323\n",
      "viscosity: 0.24630583637155248\n",
      "viscosity: 0.2463726041669457\n",
      "viscosity: 0.24641420751073356\n",
      "viscosity: 0.24647400972588676\n",
      "viscosity: 0.24653275965778082\n",
      "viscosity: 0.24659048247374404\n",
      "viscosity: 0.24664724365622587\n",
      "viscosity: 0.24670305560307387\n",
      "viscosity: 0.24673729088726823\n",
      "viscosity: 0.2467873284982562\n",
      "viscosity: 0.2468366391878443\n",
      "viscosity: 0.24688530212497417\n",
      "viscosity: 0.24693328872399717\n",
      "viscosity: 0.2469806807396642\n",
      "viscosity: 0.24702745006069637\n",
      "viscosity: 0.2470518666457456\n",
      "viscosity: 0.24709385068307962\n",
      "viscosity: 0.24713528632278806\n",
      "viscosity: 0.24717646009726574\n",
      "viscosity: 0.24721718981032648\n",
      "viscosity: 0.247257493586483\n",
      "viscosity: 0.24727817386315265\n",
      "viscosity: 0.2473142153767295\n",
      "viscosity: 0.24735017073225102\n",
      "viscosity: 0.2473857222935089\n",
      "viscosity: 0.24742108514303907\n",
      "viscosity: 0.24745612470900444\n",
      "viscosity: 0.24747370984460373\n",
      "viscosity: 0.247505383732105\n",
      "viscosity: 0.24753654583399562\n",
      "viscosity: 0.24756775047380525\n",
      "viscosity: 0.24759859542118945\n",
      "viscosity: 0.24762968499934745\n",
      "viscosity: 0.24766008494088992\n",
      "viscosity: 0.24767259135859301\n",
      "viscosity: 0.24770058121411664\n",
      "viscosity: 0.24772809174049187\n",
      "viscosity: 0.247755477985241\n",
      "viscosity: 0.247781808146722\n",
      "viscosity: 0.247809022145787\n",
      "viscosity: 0.24781965328006728\n",
      "viscosity: 0.24784435487879836\n",
      "viscosity: 0.24786891547830575\n",
      "viscosity: 0.2478918421257523\n",
      "viscosity: 0.2479129635545951\n",
      "viscosity: 0.24794062373372694\n",
      "viscosity: 0.24796008360545513\n",
      "viscosity: 0.24796898931315728\n",
      "viscosity: 0.2479910257809267\n",
      "viscosity: 0.24800510952906776\n",
      "viscosity: 0.2480419951087502\n",
      "viscosity: 0.24804350726398758\n",
      "viscosity: nan\n",
      "viscosity: 0.24807331581208475\n"
     ]
    },
    {
     "name": "stderr",
     "output_type": "stream",
     "text": [
      "/tmp/ipykernel_1113/4273588765.py:19: RuntimeWarning: invalid value encountered in log\n",
      "  viscosity = np.log(maximum / a0) * -1 / (timestep * (2 * np.pi / L)**2)\n"
     ]
    }
   ],
   "source": [
    "def compare_simulation_and_analytical_solution(f_values_iyx, timesteps):\n",
    "    analytical_solution_velocity_amplitude = []\n",
    "    simulated_solution_velocity_amplitude = []\n",
    "    measured_viscosity = []\n",
    "    # calc initial density and average velocity field\n",
    "    density_values_yx, average_velocity_field_directions_yxc = calc_density_and_average_velocity(f_values_iyx)\n",
    "    # find index of first maximum of sinosoidal wave in y direction at t=0\n",
    "    y_components = average_velocity_field_directions_yxc[:,:,1]\n",
    "    print(np.argmax(y_components))\n",
    "    index = np.unravel_index(y_components.argmax(), y_components.shape)\n",
    "    print(index)\n",
    "    current_value_at_index = average_velocity_field_directions_yxc[index[0], index[1], 1]\n",
    "    simulated_solution_velocity_amplitude.append(current_value_at_index)\n",
    "\n",
    "    a0 = average_velocity_field_directions_yxc[index[0], index[1], 1]\n",
    "    viscosity = 1/3 * (1/omega - 0.5)\n",
    "    print(\"Analytical prediction for viscosity: {}\".format(viscosity))\n",
    "\n",
    "    fig, ax = plt.subplots()\n",
    "    for timestep in range(timesteps):\n",
    "        # find analytical solution\n",
    "        analytical_solution_velocity_amplitude.append(calc_analytical_solution_velocity_amplitude(a0, viscosity, L, timestep))\n",
    "        \n",
    "\n",
    "        # find simulated solution\n",
    "        f_values_iyx, density_values_yx, average_velocity_field_directions_yxc = update(f_values_iyx, density_values_yx, average_velocity_field_directions_yxc)\n",
    "        # calculate amplitude of average velocity sinosoidal wave in y direction\n",
    "        current_value_at_index = average_velocity_field_directions_yxc[index[0], index[1], 1]\n",
    "        simulated_solution_velocity_amplitude.append(current_value_at_index)\n",
    "\n",
    "        # if timestep % 100 == 0:\n",
    "        #     ax.set_title(\"Velocity field for t={}\".format(timestep))\n",
    "        #     # np.einsum(\"yxc, yxc ->yx\", average_velocity_field_directions_yxc, average_velocity_field_directions_yxc)\n",
    "        #     mappable = plt.imshow(np.sqrt(average_velocity_field_directions_yxc[:,:,0]**2 + average_velocity_field_directions_yxc[:,:,1]**2), cmap='RdBu')\n",
    "        #     cbar = fig.colorbar(mappable, ax=ax, extend='both')\n",
    "        #     cbar.minorticks_on()\n",
    "        #     plt.pause(0.5)\n",
    "        #     cbar.remove()\n",
    "        #     ax.cla()\n",
    "\n",
    "    plot_grid_datafield(np.einsum(\"yxc, yxc ->yx\", average_velocity_field_directions_yxc, average_velocity_field_directions_yxc), 0, label=\"average velocity magnitude\")\n",
    "\n",
    "    fig, ax = plt.subplots()\n",
    "    ax.set_title(\"Comparison of analytical and simulated solution\")\n",
    "    ax.plot(analytical_solution_velocity_amplitude, label=\"analytical solution\")\n",
    "    ax.plot(simulated_solution_velocity_amplitude, label=\"simulated solution\")\n",
    "    ax.legend()\n",
    "    plt.show()\n",
    "    return analytical_solution_velocity_amplitude, simulated_solution_velocity_amplitude\n",
    "\n",
    "\n",
    "analytical_solution, simulated_solution = compare_simulation_and_analytical_solution(f_values_iyx, 20000)\n",
    "calc_viscosity(simulated_solution, L)\n"
   ]
  }
 ],
 "metadata": {
  "kernelspec": {
   "display_name": "FM_venv",
   "language": "python",
   "name": "python3"
  },
  "language_info": {
   "codemirror_mode": {
    "name": "ipython",
    "version": 3
   },
   "file_extension": ".py",
   "mimetype": "text/x-python",
   "name": "python",
   "nbconvert_exporter": "python",
   "pygments_lexer": "ipython3",
   "version": "3.10.6"
  },
  "orig_nbformat": 4
 },
 "nbformat": 4,
 "nbformat_minor": 2
}
